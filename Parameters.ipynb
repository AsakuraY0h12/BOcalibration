{
 "cells": [
  {
   "cell_type": "code",
   "execution_count": 12,
   "metadata": {},
   "outputs": [],
   "source": [
    "import os\n",
    "import pandas as pd\n",
    "import re"
   ]
  },
  {
   "cell_type": "code",
   "execution_count": 13,
   "metadata": {},
   "outputs": [
    {
     "name": "stdout",
     "output_type": "stream",
     "text": [
      "     model                                        param  module  include  \\\n",
      "0      dpb                 local beta_homemaker = 0.442  preday    False   \n",
      "1      dpb                  local beta_retired = -0.419  preday    False   \n",
      "2      dpb                   local beta_fulltime = 4.10  preday    False   \n",
      "3      dpb                   local beta_parttime = 3.02  preday    False   \n",
      "4      dpb               local beta_selfemployed = 2.60  preday    False   \n",
      "...    ...                                          ...     ...      ...   \n",
      "1856  wdmw      local beta_age65_zero_car_motor = 0.844  preday    False   \n",
      "1857  wdmw  local beta_age65_one_plus_car_motor = -1.24  preday    False   \n",
      "1858   zpa                   local beta_size = -0.99053  preday    False   \n",
      "1859   zpa                        local beta_MRTd = 1.6  preday    False   \n",
      "1860   dpb                     local cons_travel = 1.85  preday    False   \n",
      "\n",
      "      initial  provided_initial  \n",
      "0     0.44200           0.44200  \n",
      "1    -0.41900          -0.41900  \n",
      "2     4.10000           4.10000  \n",
      "3     3.02000           3.02000  \n",
      "4     2.60000           2.60000  \n",
      "...       ...               ...  \n",
      "1856  0.84400           0.84400  \n",
      "1857 -1.24000          -1.24000  \n",
      "1858 -0.99053          -0.99053  \n",
      "1859  1.60000           1.60000  \n",
      "1860  1.85000           1.85000  \n",
      "\n",
      "[1861 rows x 6 columns]\n"
     ]
    }
   ],
   "source": [
    "def parse_lua_file(filename):\n",
    "    with open(filename, 'r') as file:\n",
    "        content = file.read()\n",
    "\n",
    "    # Use regular expressions to find all variables and their values\n",
    "    pattern = r'(local |bundled_variables\\.)beta_(\\w+) = ([-.\\d]+)'\n",
    "    matches = re.findall(pattern, content)\n",
    "\n",
    "    # Get model name from file name (without .lua extension)\n",
    "    model_name = os.path.splitext(os.path.basename(filename))[0]\n",
    "\n",
    "    # Return a list of dictionaries, each representing a row in the final DataFrame\n",
    "    result = []\n",
    "    for match in matches:\n",
    "        try:\n",
    "            initial = float(match[2])\n",
    "        except ValueError:\n",
    "            initial = 0    # None  # or np.nan, or 0, or any value we want to use for invalid floats\n",
    "        result.append({\n",
    "            'model': model_name,\n",
    "            'param': f'{match[0]}beta_{match[1]} = {match[2]}',\n",
    "            'module': 'preday',\n",
    "            'include': False,\n",
    "            'initial': initial\n",
    "        })\n",
    "    return result\n",
    "\n",
    "# Full path to 'folder_lua'\n",
    "folder_path = \"/home/s210911/simmobility/scripts/lua/mid/behavior_vc\"\n",
    "\n",
    "lua_files = [f for f in os.listdir(folder_path) if f.endswith('.lua')]\n",
    "\n",
    "# Sort the files in lexicographical (alphabetical) order before processing\n",
    "lua_files.sort()\n",
    "\n",
    "# Use folder_path when opening the file\n",
    "rows = [row for lua_file in lua_files for row in parse_lua_file(os.path.join(folder_path, lua_file))]\n",
    "\n",
    "\n",
    "# Create a DataFrame from the list of dictionaries\n",
    "df = pd.DataFrame(rows)\n",
    "\n",
    "\n",
    "df=df[pd.to_numeric(df['initial'], errors='coerce').notnull()]\n",
    "df[\"provided_initial\"]=df[\"initial\"].copy()\n",
    "\n",
    "# Adding cons_travel \n",
    "\n",
    "# New data to add as a row\n",
    "new_row_data = {\n",
    "    'model': 'dpb',\n",
    "    'param': 'local cons_travel = 1.85',\n",
    "    'module': 'preday',\n",
    "    'include': False,\n",
    "    'initial': 1.85,\n",
    "    'provided_initial': 1.85\n",
    "}\n",
    "\n",
    "# Append the new row to the DataFrame\n",
    "df = df.append(new_row_data, ignore_index=True)\n",
    "\n",
    "print(df)\n",
    "\n",
    "# # Create a DataFrame from the list of dictionaries\n",
    "# df = pd.DataFrame(rows)\n",
    "# df['initial'] = pd.to_numeric(df['initial'], errors='coerce')\n",
    "# df[\"provided_initial\"] = df[\"initial\"].copy()\n",
    "# df['initial'] = df['initial'].fillna(0)\n",
    "# print(df)\n"
   ]
  },
  {
   "cell_type": "code",
   "execution_count": 14,
   "metadata": {},
   "outputs": [],
   "source": [
    "# Chosen model parameters to calibrate\n",
    "models_to_include = ['dpb', 'imd', 'nte', 'tmdo']\n",
    "df.loc[df['model'].isin(models_to_include), 'include'] = True"
   ]
  },
  {
   "cell_type": "code",
   "execution_count": 19,
   "metadata": {},
   "outputs": [],
   "source": [
    "# Save the DataFrame to a csv file\n",
    "#df.to_csv('parameters.csv', index=False)\n"
   ]
  }
 ],
 "metadata": {
  "kernelspec": {
   "display_name": "Python 3",
   "language": "python",
   "name": "python3"
  },
  "language_info": {
   "codemirror_mode": {
    "name": "ipython",
    "version": 3
   },
   "file_extension": ".py",
   "mimetype": "text/x-python",
   "name": "python",
   "nbconvert_exporter": "python",
   "pygments_lexer": "ipython3",
   "version": "3.8.10"
  },
  "orig_nbformat": 4
 },
 "nbformat": 4,
 "nbformat_minor": 2
}
