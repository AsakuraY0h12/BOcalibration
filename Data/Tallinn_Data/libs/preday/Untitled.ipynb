{
 "cells": [
  {
   "cell_type": "code",
   "execution_count": null,
   "id": "b43dfc1f",
   "metadata": {},
   "outputs": [],
   "source": []
  },
  {
   "cell_type": "code",
   "execution_count": null,
   "id": "5177bf5d",
   "metadata": {},
   "outputs": [],
   "source": []
  },
  {
   "cell_type": "code",
   "execution_count": null,
   "id": "16773728",
   "metadata": {},
   "outputs": [],
   "source": []
  },
  {
   "cell_type": "code",
   "execution_count": null,
   "id": "693ae4ce",
   "metadata": {},
   "outputs": [],
   "source": []
  },
  {
   "cell_type": "code",
   "execution_count": null,
   "id": "149ef8ae",
   "metadata": {},
   "outputs": [],
   "source": [
    "ASC_cycling = Beta('ASC_cycling',0,None,None,0)\n",
    "ASC_driving = Beta('ASC_driving',0,None,None,0)\n",
    "ASC_walking = Beta('ASC_walking',0,None,None,0)\n",
    "\n",
    "B_time_1 = Beta('B_time_1',0,None,None,0)\n",
    "B_time_2 = Beta('B_time_2',0,None,None,0)\n",
    "B_time_3 = Beta('B_time_3',0,None,None,0)\n",
    "B_time_4 = Beta('B_time_4',0,None,None,0)\n",
    "B_cost_2 = Beta('B_cost_2',0,None,None,0)\n",
    "B_cost_3 = Beta('B_cost_3',0,None,None,0)\n",
    "B_1_inter=Beta('B_1_inter',0,None,None,0)\n",
    "B_n_inter = Beta('B_n_inter',0,None,None,0)\n",
    "\n",
    "V0 = ASC_cycling + B_time_1 * log(dur_cycling)\n",
    "V1 = ASC_driving + B_time_2 * log(dur_driving) + B_cost_2 * cost_driving_total\n",
    "V2 = B_time_3 * log(dur_pt_rail +dur_pt_bus +dur_pt_access) +B_n_inter*(more_than_one_inter) +B_1_inter*(one_inter)+ B_cost_3 * cost_transit\n",
    "V3 = ASC_walking + B_time_4 * log(dur_walking)\n",
    "\n",
    "V_7 = {0:V0, 1:V1, 2:V2, 3:V3}\n",
    "av_7 = {0:1, 1:1, 2:1, 3:1}"
   ]
  },
  {
   "cell_type": "code",
   "execution_count": null,
   "id": "ddc9aa87",
   "metadata": {},
   "outputs": [],
   "source": [
    "logprob = models.loglogit(V_7,av_7,choice)\n",
    "biogeme = bio.BIOGEME (database, logprob)\n",
    "biogeme.modelName='Model_7'\n",
    "results_7 = biogeme.estimate()"
   ]
  },
  {
   "cell_type": "code",
   "execution_count": null,
   "id": "aef1537f",
   "metadata": {},
   "outputs": [],
   "source": [
    "# Get the results in a pandas table\n",
    "pandasResults3 = results_7.getEstimatedParameters()\n",
    "print(pandasResults3)\n",
    "print('-----------------------------------')\n",
    "final_LL_7 = results_7.data.logLike\n",
    "print(f'Final Loglikelihood: {final_LL_7}')"
   ]
  },
  {
   "cell_type": "code",
   "execution_count": null,
   "id": "ced8851c",
   "metadata": {},
   "outputs": [],
   "source": []
  },
  {
   "cell_type": "code",
   "execution_count": null,
   "id": "55ec8f56",
   "metadata": {},
   "outputs": [],
   "source": []
  },
  {
   "cell_type": "code",
   "execution_count": null,
   "id": "35e35a73",
   "metadata": {},
   "outputs": [],
   "source": []
  }
 ],
 "metadata": {
  "kernelspec": {
   "display_name": "Python 3 (ipykernel)",
   "language": "python",
   "name": "python3"
  },
  "language_info": {
   "codemirror_mode": {
    "name": "ipython",
    "version": 3
   },
   "file_extension": ".py",
   "mimetype": "text/x-python",
   "name": "python",
   "nbconvert_exporter": "python",
   "pygments_lexer": "ipython3",
   "version": "3.8.16"
  },
  "toc": {
   "base_numbering": 1,
   "nav_menu": {},
   "number_sections": true,
   "sideBar": true,
   "skip_h1_title": false,
   "title_cell": "Table of Contents",
   "title_sidebar": "Contents",
   "toc_cell": false,
   "toc_position": {},
   "toc_section_display": true,
   "toc_window_display": false
  }
 },
 "nbformat": 4,
 "nbformat_minor": 5
}
